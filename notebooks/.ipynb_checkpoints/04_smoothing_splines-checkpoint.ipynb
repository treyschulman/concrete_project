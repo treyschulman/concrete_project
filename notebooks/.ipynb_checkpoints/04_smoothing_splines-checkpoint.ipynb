{
 "cells": [
  {
   "cell_type": "markdown",
   "id": "9614aa01",
   "metadata": {},
   "source": [
    "# Smoothing Splines Notebook\n",
    "- LinearGAM with s(x) for each numeric predictor and .gridsearch for smoothing\n"
   ]
  },
  {
   "cell_type": "code",
   "execution_count": 3,
   "id": "4f0a21e8-b85e-46f6-bc54-e68fd792a2b0",
   "metadata": {},
   "outputs": [],
   "source": [
    "# pip install pygam"
   ]
  },
  {
   "cell_type": "code",
   "execution_count": 23,
   "id": "b55808af-1195-4ed2-b419-64b29b9f8e41",
   "metadata": {},
   "outputs": [],
   "source": [
    "import os, sys, numpy as np, pandas as pd, matplotlib.pyplot as plt\n",
    "from pygam import LinearGAM, s\n",
    "from sklearn.metrics import mean_squared_error"
   ]
  },
  {
   "cell_type": "code",
   "execution_count": 13,
   "id": "70bd73c2-0b9e-409d-9597-f52b3f875984",
   "metadata": {},
   "outputs": [],
   "source": [
    "# local utils\n",
    "sys.path.append(os.path.join(os.path.dirname(os.getcwd()), 'src'))\n",
    "from utils_plots import plot_pred_vs_actual, plot_residuals, report_mse\n",
    "\n",
    "# load train/test data\n",
    "DATA_DIR = os.path.join(os.path.dirname(os.getcwd()), 'data')\n",
    "train_path = os.path.join(DATA_DIR, 'concrete_train.csv')\n",
    "test_path  = os.path.join(DATA_DIR, 'concrete_test.csv')\n",
    "\n",
    "train_df = pd.read_csv(train_path)\n",
    "test_df  = pd.read_csv(test_path)\n",
    "\n",
    "# split X/y\n",
    "X_train = train_df.drop(columns=['concrete_compressive_strength']).to_numpy(dtype=float)\n",
    "y_train = train_df['concrete_compressive_strength'].values\n",
    "X_test  = test_df.drop(columns=['concrete_compressive_strength']).to_numpy(dtype=float)\n",
    "y_test  = test_df['concrete_compressive_strength'].values"
   ]
  },
  {
   "cell_type": "code",
   "execution_count": 27,
   "id": "2873b278-ec06-4a9a-8f59-6d3e8bd3aafa",
   "metadata": {},
   "outputs": [
    {
     "ename": "InvalidIndexError",
     "evalue": "(slice(None, None, None), 0)",
     "output_type": "error",
     "traceback": [
      "\u001b[0;31m---------------------------------------------------------------------------\u001b[0m",
      "\u001b[0;31mTypeError\u001b[0m                                 Traceback (most recent call last)",
      "File \u001b[0;32m/opt/anaconda3/lib/python3.11/site-packages/pandas/core/indexes/base.py:3791\u001b[0m, in \u001b[0;36mIndex.get_loc\u001b[0;34m(self, key)\u001b[0m\n\u001b[1;32m   3790\u001b[0m \u001b[38;5;28;01mtry\u001b[39;00m:\n\u001b[0;32m-> 3791\u001b[0m     \u001b[38;5;28;01mreturn\u001b[39;00m \u001b[38;5;28mself\u001b[39m\u001b[38;5;241m.\u001b[39m_engine\u001b[38;5;241m.\u001b[39mget_loc(casted_key)\n\u001b[1;32m   3792\u001b[0m \u001b[38;5;28;01mexcept\u001b[39;00m \u001b[38;5;167;01mKeyError\u001b[39;00m \u001b[38;5;28;01mas\u001b[39;00m err:\n",
      "File \u001b[0;32mindex.pyx:152\u001b[0m, in \u001b[0;36mpandas._libs.index.IndexEngine.get_loc\u001b[0;34m()\u001b[0m\n",
      "File \u001b[0;32mindex.pyx:158\u001b[0m, in \u001b[0;36mpandas._libs.index.IndexEngine.get_loc\u001b[0;34m()\u001b[0m\n",
      "\u001b[0;31mTypeError\u001b[0m: '(slice(None, None, None), 0)' is an invalid key",
      "\nDuring handling of the above exception, another exception occurred:\n",
      "\u001b[0;31mInvalidIndexError\u001b[0m                         Traceback (most recent call last)",
      "Cell \u001b[0;32mIn[27], line 6\u001b[0m\n\u001b[1;32m      3\u001b[0m \u001b[38;5;28;01mfor\u001b[39;00m i \u001b[38;5;129;01min\u001b[39;00m \u001b[38;5;28mrange\u001b[39m(\u001b[38;5;241m1\u001b[39m, n_features):\n\u001b[1;32m      4\u001b[0m     terms \u001b[38;5;241m+\u001b[39m\u001b[38;5;241m=\u001b[39m s(i)\n\u001b[0;32m----> 6\u001b[0m gam \u001b[38;5;241m=\u001b[39m LinearGAM(terms)\u001b[38;5;241m.\u001b[39mgridsearch(X_train, y_train)\n",
      "File \u001b[0;32m/opt/anaconda3/lib/python3.11/site-packages/pygam/pygam.py:1928\u001b[0m, in \u001b[0;36mGAM.gridsearch\u001b[0;34m(self, X, y, weights, return_scores, keep_best, objective, progress, **param_grids)\u001b[0m\n\u001b[1;32m   1926\u001b[0m \u001b[38;5;28;01mif\u001b[39;00m \u001b[38;5;129;01mnot\u001b[39;00m \u001b[38;5;28mself\u001b[39m\u001b[38;5;241m.\u001b[39m_is_fitted:\n\u001b[1;32m   1927\u001b[0m     \u001b[38;5;28mself\u001b[39m\u001b[38;5;241m.\u001b[39m_validate_params()\n\u001b[0;32m-> 1928\u001b[0m     \u001b[38;5;28mself\u001b[39m\u001b[38;5;241m.\u001b[39m_validate_data_dep_params(X)\n\u001b[1;32m   1930\u001b[0m y \u001b[38;5;241m=\u001b[39m check_y(y, \u001b[38;5;28mself\u001b[39m\u001b[38;5;241m.\u001b[39mlink, \u001b[38;5;28mself\u001b[39m\u001b[38;5;241m.\u001b[39mdistribution, verbose\u001b[38;5;241m=\u001b[39m\u001b[38;5;28mself\u001b[39m\u001b[38;5;241m.\u001b[39mverbose)\n\u001b[1;32m   1931\u001b[0m X \u001b[38;5;241m=\u001b[39m check_X(X, verbose\u001b[38;5;241m=\u001b[39m\u001b[38;5;28mself\u001b[39m\u001b[38;5;241m.\u001b[39mverbose)\n",
      "File \u001b[0;32m/opt/anaconda3/lib/python3.11/site-packages/pygam/pygam.py:329\u001b[0m, in \u001b[0;36mGAM._validate_data_dep_params\u001b[0;34m(self, X)\u001b[0m\n\u001b[1;32m    326\u001b[0m \u001b[38;5;28;01mfor\u001b[39;00m k \u001b[38;5;129;01min\u001b[39;00m remove:\n\u001b[1;32m    327\u001b[0m     \u001b[38;5;28mdelattr\u001b[39m(\u001b[38;5;28mself\u001b[39m, k)\n\u001b[0;32m--> 329\u001b[0m \u001b[38;5;28mself\u001b[39m\u001b[38;5;241m.\u001b[39mterms\u001b[38;5;241m.\u001b[39mcompile(X)\n",
      "File \u001b[0;32m/opt/anaconda3/lib/python3.11/site-packages/pygam/terms.py:1699\u001b[0m, in \u001b[0;36mTermList.compile\u001b[0;34m(self, X, verbose)\u001b[0m\n\u001b[1;32m   1684\u001b[0m \u001b[38;5;250m\u001b[39m\u001b[38;5;124;03m\"\"\"Method to validate and prepare data-dependent parameters.\u001b[39;00m\n\u001b[1;32m   1685\u001b[0m \n\u001b[1;32m   1686\u001b[0m \u001b[38;5;124;03mParameters\u001b[39;00m\n\u001b[0;32m   (...)\u001b[0m\n\u001b[1;32m   1696\u001b[0m \u001b[38;5;124;03mNone\u001b[39;00m\n\u001b[1;32m   1697\u001b[0m \u001b[38;5;124;03m\"\"\"\u001b[39;00m\n\u001b[1;32m   1698\u001b[0m \u001b[38;5;28;01mfor\u001b[39;00m term \u001b[38;5;129;01min\u001b[39;00m \u001b[38;5;28mself\u001b[39m\u001b[38;5;241m.\u001b[39m_terms:\n\u001b[0;32m-> 1699\u001b[0m     term\u001b[38;5;241m.\u001b[39mcompile(X, verbose\u001b[38;5;241m=\u001b[39mverbose)\n\u001b[1;32m   1701\u001b[0m \u001b[38;5;66;03m# now remove duplicate intercepts\u001b[39;00m\n\u001b[1;32m   1702\u001b[0m n_intercepts \u001b[38;5;241m=\u001b[39m \u001b[38;5;241m0\u001b[39m\n",
      "File \u001b[0;32m/opt/anaconda3/lib/python3.11/site-packages/pygam/terms.py:815\u001b[0m, in \u001b[0;36mSplineTerm.compile\u001b[0;34m(self, X, verbose)\u001b[0m\n\u001b[1;32m    809\u001b[0m     \u001b[38;5;28;01mraise\u001b[39;00m \u001b[38;5;167;01mValueError\u001b[39;00m(\n\u001b[1;32m    810\u001b[0m         \u001b[38;5;124mf\u001b[39m\u001b[38;5;124m\"\u001b[39m\u001b[38;5;124mby variable requires feature \u001b[39m\u001b[38;5;132;01m{\u001b[39;00m\u001b[38;5;28mself\u001b[39m\u001b[38;5;241m.\u001b[39mby\u001b[38;5;132;01m}\u001b[39;00m\u001b[38;5;124m, but X has only \u001b[39m\u001b[38;5;132;01m{\u001b[39;00mX\u001b[38;5;241m.\u001b[39mshape[\u001b[38;5;241m1\u001b[39m]\u001b[38;5;132;01m}\u001b[39;00m\u001b[38;5;124m dimensions\u001b[39m\u001b[38;5;124m\"\u001b[39m\n\u001b[1;32m    811\u001b[0m     )\n\u001b[1;32m    813\u001b[0m \u001b[38;5;28;01mif\u001b[39;00m \u001b[38;5;129;01mnot\u001b[39;00m \u001b[38;5;28mhasattr\u001b[39m(\u001b[38;5;28mself\u001b[39m, \u001b[38;5;124m\"\u001b[39m\u001b[38;5;124medge_knots_\u001b[39m\u001b[38;5;124m\"\u001b[39m):\n\u001b[1;32m    814\u001b[0m     \u001b[38;5;28mself\u001b[39m\u001b[38;5;241m.\u001b[39medge_knots_ \u001b[38;5;241m=\u001b[39m gen_edge_knots(\n\u001b[0;32m--> 815\u001b[0m         X[:, \u001b[38;5;28mself\u001b[39m\u001b[38;5;241m.\u001b[39mfeature], \u001b[38;5;28mself\u001b[39m\u001b[38;5;241m.\u001b[39mdtype, verbose\u001b[38;5;241m=\u001b[39mverbose\n\u001b[1;32m    816\u001b[0m     )\n\u001b[1;32m    817\u001b[0m \u001b[38;5;28;01mreturn\u001b[39;00m \u001b[38;5;28mself\u001b[39m\n",
      "File \u001b[0;32m/opt/anaconda3/lib/python3.11/site-packages/pandas/core/frame.py:3893\u001b[0m, in \u001b[0;36mDataFrame.__getitem__\u001b[0;34m(self, key)\u001b[0m\n\u001b[1;32m   3891\u001b[0m \u001b[38;5;28;01mif\u001b[39;00m \u001b[38;5;28mself\u001b[39m\u001b[38;5;241m.\u001b[39mcolumns\u001b[38;5;241m.\u001b[39mnlevels \u001b[38;5;241m>\u001b[39m \u001b[38;5;241m1\u001b[39m:\n\u001b[1;32m   3892\u001b[0m     \u001b[38;5;28;01mreturn\u001b[39;00m \u001b[38;5;28mself\u001b[39m\u001b[38;5;241m.\u001b[39m_getitem_multilevel(key)\n\u001b[0;32m-> 3893\u001b[0m indexer \u001b[38;5;241m=\u001b[39m \u001b[38;5;28mself\u001b[39m\u001b[38;5;241m.\u001b[39mcolumns\u001b[38;5;241m.\u001b[39mget_loc(key)\n\u001b[1;32m   3894\u001b[0m \u001b[38;5;28;01mif\u001b[39;00m is_integer(indexer):\n\u001b[1;32m   3895\u001b[0m     indexer \u001b[38;5;241m=\u001b[39m [indexer]\n",
      "File \u001b[0;32m/opt/anaconda3/lib/python3.11/site-packages/pandas/core/indexes/base.py:3803\u001b[0m, in \u001b[0;36mIndex.get_loc\u001b[0;34m(self, key)\u001b[0m\n\u001b[1;32m   3798\u001b[0m     \u001b[38;5;28;01mraise\u001b[39;00m \u001b[38;5;167;01mKeyError\u001b[39;00m(key) \u001b[38;5;28;01mfrom\u001b[39;00m \u001b[38;5;21;01merr\u001b[39;00m\n\u001b[1;32m   3799\u001b[0m \u001b[38;5;28;01mexcept\u001b[39;00m \u001b[38;5;167;01mTypeError\u001b[39;00m:\n\u001b[1;32m   3800\u001b[0m     \u001b[38;5;66;03m# If we have a listlike key, _check_indexing_error will raise\u001b[39;00m\n\u001b[1;32m   3801\u001b[0m     \u001b[38;5;66;03m#  InvalidIndexError. Otherwise we fall through and re-raise\u001b[39;00m\n\u001b[1;32m   3802\u001b[0m     \u001b[38;5;66;03m#  the TypeError.\u001b[39;00m\n\u001b[0;32m-> 3803\u001b[0m     \u001b[38;5;28mself\u001b[39m\u001b[38;5;241m.\u001b[39m_check_indexing_error(key)\n\u001b[1;32m   3804\u001b[0m     \u001b[38;5;28;01mraise\u001b[39;00m\n",
      "File \u001b[0;32m/opt/anaconda3/lib/python3.11/site-packages/pandas/core/indexes/base.py:5975\u001b[0m, in \u001b[0;36mIndex._check_indexing_error\u001b[0;34m(self, key)\u001b[0m\n\u001b[1;32m   5971\u001b[0m \u001b[38;5;28;01mdef\u001b[39;00m \u001b[38;5;21m_check_indexing_error\u001b[39m(\u001b[38;5;28mself\u001b[39m, key):\n\u001b[1;32m   5972\u001b[0m     \u001b[38;5;28;01mif\u001b[39;00m \u001b[38;5;129;01mnot\u001b[39;00m is_scalar(key):\n\u001b[1;32m   5973\u001b[0m         \u001b[38;5;66;03m# if key is not a scalar, directly raise an error (the code below\u001b[39;00m\n\u001b[1;32m   5974\u001b[0m         \u001b[38;5;66;03m# would convert to numpy arrays and raise later any way) - GH29926\u001b[39;00m\n\u001b[0;32m-> 5975\u001b[0m         \u001b[38;5;28;01mraise\u001b[39;00m InvalidIndexError(key)\n",
      "\u001b[0;31mInvalidIndexError\u001b[0m: (slice(None, None, None), 0)"
     ]
    }
   ],
   "source": [
    "n_features = X_train.shape[1]\n",
    "terms = s(0)\n",
    "for i in range(1, n_features):\n",
    "    terms += s(i)\n",
    "\n",
    "gam = LinearGAM(terms).gridsearch(X_train, y_train)"
   ]
  },
  {
   "cell_type": "code",
   "execution_count": null,
   "id": "736fcca9",
   "metadata": {},
   "outputs": [],
   "source": [
    "y_pred_test = gam.predict(X_test)\n",
    "test_mse = mean_squared_error(y_test, y_pred)\n",
    "print(\"Test MSE:\", test_mse)"
   ]
  },
  {
   "cell_type": "code",
   "execution_count": null,
   "id": "f769d81a-30a8-4a8b-8a33-e8fdc7e81e6d",
   "metadata": {},
   "outputs": [],
   "source": [
    "fig_dir = os.path.join(os.path.dirname(os.getcwd()), 'reports', 'figures')\n",
    "os.makedirs(fig_dir, exist_ok=True)\n",
    "plot_pred_vs_actual(y_test, y_pred_test, title='GAM — Predicted vs Actual', save_path=os.path.join(fig_dir, 'gam_pv.png'))\n",
    "plot_residuals(y_test, y_pred_test, title='GAM — Residuals vs Fitted', save_path=os.path.join(fig_dir, 'gam_resid.png'))"
   ]
  },
  {
   "cell_type": "code",
   "execution_count": null,
   "id": "7b2dbbcc-71a2-4b52-b629-f144c0cdb56f",
   "metadata": {},
   "outputs": [],
   "source": [
    "# Shape plots\n",
    "for i in range(n_features):\n",
    "    plt.figure()\n",
    "    XX = gam.generate_X_grid(term=i)\n",
    "    plt.plot(XX[:, i], gam.partial_dependence(term=i, X=XX))\n",
    "    plt.title(f'GAM shape for feature {i}')\n",
    "    plt.tight_layout()\n",
    "    plt.show()"
   ]
  }
 ],
 "metadata": {
  "kernelspec": {
   "display_name": "Python 3 (ipykernel)",
   "language": "python",
   "name": "python3"
  },
  "language_info": {
   "codemirror_mode": {
    "name": "ipython",
    "version": 3
   },
   "file_extension": ".py",
   "mimetype": "text/x-python",
   "name": "python",
   "nbconvert_exporter": "python",
   "pygments_lexer": "ipython3",
   "version": "3.11.7"
  }
 },
 "nbformat": 4,
 "nbformat_minor": 5
}
