{
 "cells": [
  {
   "cell_type": "markdown",
   "id": "cca46866",
   "metadata": {},
   "source": [
    "# Project 2 — Concrete Strength: EDA & Train/Test Split\n",
    "This notebook performs initial EDA and creates a fixed 70/30 train/test split (seed=598).\n",
    "\n",
    "**Deliverables produced here:**\n",
    "- Summary stats, missingness checks, distributions, correlation matrix\n",
    "- Optional transformation suggestions based on skewness/nonlinearity\n",
    "- Frozen 70/30 split CSVs saved to `data/`\n"
   ]
  },
  {
   "cell_type": "code",
   "execution_count": null,
   "id": "0fdbabdf",
   "metadata": {},
   "outputs": [],
   "source": [
    "import os\n",
    "import math\n",
    "import numpy as np\n",
    "import pandas as pd\n",
    "import matplotlib.pyplot as plt\n",
    "\n",
    "from src.utils_data import load_concrete, train_test_split_fixed\n",
    "\n",
    "pd.set_option('display.max_columns', 100)\n",
    "BASE = os.path.abspath('.')\n",
    "DATA_DIR = os.path.join(os.path.dirname(BASE), 'data') if BASE.endswith('notebooks') else os.path.join(BASE, 'data')\n",
    "os.makedirs(DATA_DIR, exist_ok=True)\n"
   ]
  },
  {
   "cell_type": "code",
   "execution_count": null,
   "id": "acfac476",
   "metadata": {},
   "outputs": [],
   "source": [
    "# Load dataset (prefers local data/concrete.csv; will try UCI URL if available)\n",
    "try:\n",
    "    df = load_concrete(local_first=True)\n",
    "except RuntimeError as e:\n",
    "    print(e)\n",
    "    # Create an empty placeholder so the notebook remains runnable to the next cells if needed\n",
    "    df = None\n",
    "\n",
    "if df is not None:\n",
    "    print(\"Shape:\", df.shape)\n",
    "    print(df.head())\n",
    "    print(\"\\nColumns:\", list(df.columns))\n"
   ]
  },
  {
   "cell_type": "code",
   "execution_count": null,
   "id": "ba484276",
   "metadata": {},
   "outputs": [],
   "source": [
    "# Standardize column names if needed (idempotent)\n",
    "if df is not None:\n",
    "    df.columns = [c.strip().lower().replace(' ', '_').replace('(', '').replace(')', '') for c in df.columns]\n",
    "    # common response name in UCI file: 'concrete_compressive_strength_mpa'\n",
    "    # ensure it's present; otherwise leave as last column\n",
    "    print(\"\\nStandardized columns:\", list(df.columns))\n"
   ]
  },
  {
   "cell_type": "code",
   "execution_count": null,
   "id": "eb71d99d",
   "metadata": {},
   "outputs": [],
   "source": [
    "if df is not None:\n",
    "    display(df.describe(include='all'))\n",
    "    print(\"\\nMissing values per column:\")\n",
    "    print(df.isna().sum())\n"
   ]
  },
  {
   "cell_type": "code",
   "execution_count": null,
   "id": "a3461e68",
   "metadata": {},
   "outputs": [],
   "source": [
    "if df is not None:\n",
    "    numeric_cols = df.select_dtypes(include=[np.number]).columns.tolist()\n",
    "    skew = df[numeric_cols].skew(numeric_only=True)\n",
    "    print(\"Skewness by numeric column:\")\n",
    "    print(skew.sort_values(ascending=False))\n"
   ]
  },
  {
   "cell_type": "code",
   "execution_count": null,
   "id": "100e92fa",
   "metadata": {},
   "outputs": [],
   "source": [
    "# Histograms (one per feature per project rules: matplotlib, no seaborn, single plot per figure)\n",
    "if df is not None:\n",
    "    numeric_cols = df.select_dtypes(include=[np.number]).columns.tolist()\n",
    "    for col in numeric_cols:\n",
    "        plt.figure()\n",
    "        plt.hist(df[col].dropna(), bins=30)\n",
    "        plt.title(f\"Histogram: {col}\")\n",
    "        plt.xlabel(col)\n",
    "        plt.ylabel(\"Count\")\n",
    "        plt.tight_layout()\n",
    "        plt.show()\n"
   ]
  },
  {
   "cell_type": "code",
   "execution_count": null,
   "id": "af538655",
   "metadata": {},
   "outputs": [],
   "source": [
    "# Correlation matrix heatmap (matplotlib only)\n",
    "if df is not None:\n",
    "    numeric_cols = df.select_dtypes(include=[np.number]).columns.tolist()\n",
    "    corr = df[numeric_cols].corr()\n",
    "    plt.figure()\n",
    "    im = plt.imshow(corr.values, interpolation='nearest', aspect='auto')\n",
    "    plt.colorbar(im, fraction=0.046, pad=0.04)\n",
    "    plt.xticks(range(len(numeric_cols)), numeric_cols, rotation=90)\n",
    "    plt.yticks(range(len(numeric_cols)), numeric_cols)\n",
    "    plt.title(\"Correlation matrix (numeric features)\")\n",
    "    plt.tight_layout()\n",
    "    plt.show()\n"
   ]
  },
  {
   "cell_type": "code",
   "execution_count": null,
   "id": "5e3a00fa",
   "metadata": {},
   "outputs": [],
   "source": [
    "# Scatter plots: response vs predictors\n",
    "if df is not None:\n",
    "    # Identify response column\n",
    "    y_col = None\n",
    "    for cand in [\"concrete_compressive_strength_mpa\", \"concrete_compressive_strength\", \"csmpa\", \"strength\", \"concrete_compressive_strength_(mpa)\"]:\n",
    "        if cand in df.columns:\n",
    "            y_col = cand\n",
    "            break\n",
    "    if y_col is None:\n",
    "        y_col = df.columns[-1]\n",
    "\n",
    "    predictors = [c for c in df.columns if c != y_col]\n",
    "    for col in predictors:\n",
    "        plt.figure()\n",
    "        plt.scatter(df[col], df[y_col], s=10, alpha=0.7)\n",
    "        plt.xlabel(col)\n",
    "        plt.ylabel(y_col)\n",
    "        plt.title(f\"{y_col} vs {col}\")\n",
    "        plt.tight_layout()\n",
    "        plt.show()\n"
   ]
  },
  {
   "cell_type": "markdown",
   "id": "a6fa8da8",
   "metadata": {},
   "source": [
    "### Transformation suggestions (automated heuristics)\n",
    "- Consider a **log or log1p** transform for strictly positive variables if:\n",
    "  1) skewness > 1 **and**\n",
    "  2) residuals later show heteroscedasticity or strong curvature not captured by modest polynomial/spline df.\n",
    "- **Age**: do **not** transform by default; consider `log1p(age)` only if skewness > 1 *and* GAM/spline shapes indicate clear diminishing returns that a log captures more parsimoniously.\n"
   ]
  },
  {
   "cell_type": "code",
   "execution_count": null,
   "id": "efd7419f",
   "metadata": {},
   "outputs": [],
   "source": [
    "# Create frozen train/test split (70/30 with seed=598) and save CSVs\n",
    "if df is not None:\n",
    "    train_df, test_df = train_test_split_fixed(df, test_size=0.3, seed=598)\n",
    "    train_path = os.path.join(DATA_DIR, \"concrete_train.csv\")\n",
    "    test_path = os.path.join(DATA_DIR, \"concrete_test.csv\")\n",
    "    train_df.to_csv(train_path, index=False)\n",
    "    test_df.to_csv(test_path, index=False)\n",
    "    print(f\"Saved train to: {train_path}\")\n",
    "    print(f\"Saved test to : {test_path}\")\n"
   ]
  },
  {
   "cell_type": "markdown",
   "id": "776096a5",
   "metadata": {},
   "source": [
    "### Next steps\n",
    "- Use `concrete_train.csv` for model selection via 5-fold CV.\n",
    "- Keep `concrete_test.csv` untouched for the one-time final evaluation.\n",
    "- Proceed to `02_poly_reg.ipynb` and `03/04` splines notebooks.\n"
   ]
  }
 ],
 "metadata": {},
 "nbformat": 4,
 "nbformat_minor": 5
}
