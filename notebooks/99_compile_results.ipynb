{
 "cells": [
  {
   "cell_type": "markdown",
   "id": "d469f788",
   "metadata": {},
   "source": [
    "# Compile Results Notebook\n",
    "- Create and save results table"
   ]
  },
  {
   "cell_type": "code",
   "execution_count": 2,
   "id": "b58425d2",
   "metadata": {},
   "outputs": [],
   "source": [
    "import os, sys, numpy as np, pandas as pd, matplotlib.pyplot as plt\n",
    "sys.path.append(os.path.join(os.path.dirname(os.getcwd()), 'src'))\n",
    "from utils_plots import plot_pred_vs_actual, plot_residuals\n",
    "\n",
    "DATA_DIR = os.path.join(os.path.dirname(os.getcwd()), 'data')\n",
    "FIG_DIR  = os.path.join(os.path.dirname(os.getcwd()), 'reports', 'figures')"
   ]
  },
  {
   "cell_type": "code",
   "execution_count": 48,
   "id": "7d11c9b0-65c7-4fd0-85ca-3ebcb1a1817b",
   "metadata": {},
   "outputs": [],
   "source": [
    "# load each model's output\n",
    "path  = os.path.join(FIG_DIR, 'poly_reg.csv')\n",
    "poly_reg = pd.read_csv(path)\n",
    "\n",
    "path  = os.path.join(FIG_DIR, 'reg_splines.csv')\n",
    "reg_splines = pd.read_csv(path)\n",
    "\n",
    "path  = os.path.join(FIG_DIR, 'smoothing_splines.csv')\n",
    "smooth_splines = pd.read_csv(path)\n",
    "\n",
    "path  = os.path.join(FIG_DIR, 'tree_mse.csv')\n",
    "tree = pd.read_csv(path)\n",
    "\n",
    "path  = os.path.join(FIG_DIR, 'rf_mse.csv')\n",
    "rf = pd.read_csv(path)"
   ]
  },
  {
   "cell_type": "code",
   "execution_count": 50,
   "id": "66a568e1-257b-446f-ae3d-9adbe1f9137f",
   "metadata": {},
   "outputs": [],
   "source": [
    "results = pd.concat([poly_reg, reg_splines, smooth_splines, tree, rf]).reset_index(drop=True)"
   ]
  },
  {
   "cell_type": "code",
   "execution_count": 52,
   "id": "4bff36bd-0324-4b86-ba81-1f438532f0b9",
   "metadata": {},
   "outputs": [
    {
     "data": {
      "text/html": [
       "<div>\n",
       "<style scoped>\n",
       "    .dataframe tbody tr th:only-of-type {\n",
       "        vertical-align: middle;\n",
       "    }\n",
       "\n",
       "    .dataframe tbody tr th {\n",
       "        vertical-align: top;\n",
       "    }\n",
       "\n",
       "    .dataframe thead th {\n",
       "        text-align: right;\n",
       "    }\n",
       "</style>\n",
       "<table border=\"1\" class=\"dataframe\">\n",
       "  <thead>\n",
       "    <tr style=\"text-align: right;\">\n",
       "      <th></th>\n",
       "      <th>Model</th>\n",
       "      <th>Test MSE</th>\n",
       "    </tr>\n",
       "  </thead>\n",
       "  <tbody>\n",
       "    <tr>\n",
       "      <th>0</th>\n",
       "      <td>Polynomial Regression</td>\n",
       "      <td>38.458606</td>\n",
       "    </tr>\n",
       "    <tr>\n",
       "      <th>1</th>\n",
       "      <td>Regression Splines</td>\n",
       "      <td>49.453336</td>\n",
       "    </tr>\n",
       "    <tr>\n",
       "      <th>2</th>\n",
       "      <td>Smoothing Splines</td>\n",
       "      <td>32.307729</td>\n",
       "    </tr>\n",
       "    <tr>\n",
       "      <th>3</th>\n",
       "      <td>Regression Tree</td>\n",
       "      <td>63.082800</td>\n",
       "    </tr>\n",
       "    <tr>\n",
       "      <th>4</th>\n",
       "      <td>Random Forest</td>\n",
       "      <td>29.601307</td>\n",
       "    </tr>\n",
       "  </tbody>\n",
       "</table>\n",
       "</div>"
      ],
      "text/plain": [
       "                   Model   Test MSE\n",
       "0  Polynomial Regression  38.458606\n",
       "1     Regression Splines  49.453336\n",
       "2      Smoothing Splines  32.307729\n",
       "3        Regression Tree  63.082800\n",
       "4          Random Forest  29.601307"
      ]
     },
     "execution_count": 52,
     "metadata": {},
     "output_type": "execute_result"
    }
   ],
   "source": [
    "results.head(5)"
   ]
  },
  {
   "cell_type": "code",
   "execution_count": 54,
   "id": "080f0ff5-0c78-40d1-b27e-cd77799748f0",
   "metadata": {},
   "outputs": [],
   "source": [
    "csv_path = os.path.join(FIG_DIR, 'results_table.csv')\n",
    "results.to_csv(csv_path, index=False)"
   ]
  }
 ],
 "metadata": {
  "kernelspec": {
   "display_name": "Python 3 (ipykernel)",
   "language": "python",
   "name": "python3"
  },
  "language_info": {
   "codemirror_mode": {
    "name": "ipython",
    "version": 3
   },
   "file_extension": ".py",
   "mimetype": "text/x-python",
   "name": "python",
   "nbconvert_exporter": "python",
   "pygments_lexer": "ipython3",
   "version": "3.11.7"
  }
 },
 "nbformat": 4,
 "nbformat_minor": 5
}
